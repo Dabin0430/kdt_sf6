{
 "cells": [
  {
   "cell_type": "markdown",
   "id": "1c18eb4d-940d-4288-8f03-44fe54828cbf",
   "metadata": {},
   "source": [
    "##### Series 클래스 - 데이터(리스트, 튜플, 딕셔너리)가 순차적으로 나열된 1차원 리스트의 형태를 갖는다."
   ]
  },
  {
   "cell_type": "code",
   "execution_count": 10,
   "id": "731d17f8-c9ce-4f4e-889a-1fa2a250e2e1",
   "metadata": {},
   "outputs": [
    {
     "name": "stdout",
     "output_type": "stream",
     "text": [
      "a    1\n",
      "b    2\n",
      "c    3\n",
      "dtype: int64\n",
      "<class 'pandas.core.series.Series'>\n"
     ]
    }
   ],
   "source": [
    "import pandas as pd\n",
    "# 딕셔너리로 시리즈 만들기\n",
    "dict_data = {'a': 1, 'b': 2, 'c': 3}\n",
    "\n",
    "# Series(데이터, 인덱스(행의 이름표))\n",
    "sr = pd.Series(dict_data)\n",
    "print(sr)\n",
    "print(type(sr))"
   ]
  },
  {
   "cell_type": "code",
   "execution_count": 20,
   "id": "a0dfd06d-1f8b-47fd-a841-5ddaf0e3314c",
   "metadata": {},
   "outputs": [
    {
     "name": "stdout",
     "output_type": "stream",
     "text": [
      "0    2024-08-03\n",
      "1            10\n",
      "2         apple\n",
      "3          True\n",
      "dtype: object\n",
      "RangeIndex(start=0, stop=4, step=1)\n",
      "['2024-08-03' 10 'apple' True]\n"
     ]
    }
   ],
   "source": [
    "# 리스트로 시리즈 만들기(기본 인덱스(0, 1..))\n",
    "list_data = ['2024-08-03', 10, 'apple', True]\n",
    "\n",
    "sr = pd.Series(list_data)\n",
    "print(sr)\n",
    "print(sr.index) #인덱스 출력\n",
    "print(sr.values) #데이터 자료(값)\n",
    "\n"
   ]
  },
  {
   "cell_type": "code",
   "execution_count": 42,
   "id": "9bc54cf1-ded8-452f-ad2f-e6d305b10979",
   "metadata": {},
   "outputs": [
    {
     "name": "stdout",
     "output_type": "stream",
     "text": [
      "2018    143\n",
      "2019    150\n",
      "2020    157\n",
      "2021    160\n",
      "Name: Height, dtype: int64\n",
      "150\n",
      "150\n",
      "150\n"
     ]
    }
   ],
   "source": [
    "import pandas as pd\n",
    "height = [143, 150, 157, 160]\n",
    "index=[\"2018\", \"2019\", \"2020\", \"2021\"]\n",
    "growth = pd.Series(height, index=index, name='Height')\n",
    "print(growth)\n",
    "print(growth['2019'])\n",
    "# loc[ 행(문자)], iloc[인덱스(숫자)]\n",
    "print(growth.loc['2019'])\n",
    "print(growth.iloc[1])"
   ]
  },
  {
   "cell_type": "code",
   "execution_count": 48,
   "id": "d85de5b6-1db9-4061-932e-866d44b3ed8c",
   "metadata": {},
   "outputs": [
    {
     "name": "stdout",
     "output_type": "stream",
     "text": [
      "밀가루     4 cups\n",
      "우유       1 cup\n",
      "계란     2 large\n",
      "참치캔      1 can\n",
      "Name: Dinner, dtype: object\n"
     ]
    }
   ],
   "source": [
    "#실습 1\n",
    "\n",
    "n1 = ['4 cups', '1 cup', '2 large', '1 can']\n",
    "n2 =[\"밀가루\", \"우유\", \"계란\", \"참치캔\"]\n",
    "recipe = pd.Series(n1, index=n2, name='Dinner')\n",
    "print(recipe)"
   ]
  },
  {
   "cell_type": "code",
   "execution_count": null,
   "id": "3270a3cc-dab7-4597-953e-c48e265b946a",
   "metadata": {},
   "outputs": [],
   "source": []
  }
 ],
 "metadata": {
  "kernelspec": {
   "display_name": "Python 3 (ipykernel)",
   "language": "python",
   "name": "python3"
  },
  "language_info": {
   "codemirror_mode": {
    "name": "ipython",
    "version": 3
   },
   "file_extension": ".py",
   "mimetype": "text/x-python",
   "name": "python",
   "nbconvert_exporter": "python",
   "pygments_lexer": "ipython3",
   "version": "3.12.4"
  }
 },
 "nbformat": 4,
 "nbformat_minor": 5
}
