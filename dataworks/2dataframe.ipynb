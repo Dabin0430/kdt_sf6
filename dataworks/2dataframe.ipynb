{
 "cells": [
  {
   "cell_type": "markdown",
   "id": "945f2504-bebf-4946-a4a7-909d83ce2e42",
   "metadata": {},
   "source": [
    "### pandas - DataFrame 클래스: 행(row)과 열(column)로 이루어진 2차원 리스트이다."
   ]
  },
  {
   "cell_type": "code",
   "execution_count": 4,
   "id": "596c36eb-34a4-4bff-8279-ba879a0413e4",
   "metadata": {},
   "outputs": [
    {
     "data": {
      "text/html": [
       "<div>\n",
       "<style scoped>\n",
       "    .dataframe tbody tr th:only-of-type {\n",
       "        vertical-align: middle;\n",
       "    }\n",
       "\n",
       "    .dataframe tbody tr th {\n",
       "        vertical-align: top;\n",
       "    }\n",
       "\n",
       "    .dataframe thead th {\n",
       "        text-align: right;\n",
       "    }\n",
       "</style>\n",
       "<table border=\"1\" class=\"dataframe\">\n",
       "  <thead>\n",
       "    <tr style=\"text-align: right;\">\n",
       "      <th></th>\n",
       "      <th>영희</th>\n",
       "      <th>철수</th>\n",
       "    </tr>\n",
       "  </thead>\n",
       "  <tbody>\n",
       "    <tr>\n",
       "      <th>2018</th>\n",
       "      <td>143</td>\n",
       "      <td>165</td>\n",
       "    </tr>\n",
       "    <tr>\n",
       "      <th>2019</th>\n",
       "      <td>150</td>\n",
       "      <td>172</td>\n",
       "    </tr>\n",
       "    <tr>\n",
       "      <th>2020</th>\n",
       "      <td>157</td>\n",
       "      <td>175</td>\n",
       "    </tr>\n",
       "    <tr>\n",
       "      <th>2021</th>\n",
       "      <td>16</td>\n",
       "      <td>180</td>\n",
       "    </tr>\n",
       "  </tbody>\n",
       "</table>\n",
       "</div>"
      ],
      "text/plain": [
       "       영희   철수\n",
       "2018  143  165\n",
       "2019  150  172\n",
       "2020  157  175\n",
       "2021   16  180"
      ]
     },
     "execution_count": 4,
     "metadata": {},
     "output_type": "execute_result"
    }
   ],
   "source": [
    "import pandas as pd\n",
    "# 1. 시리즈 결합해서 데이터프레임 만들기\n",
    "\n",
    "index=[\"2018\", \"2019\", \"2020\", \"2021\"]\n",
    "\n",
    "younghee = pd.Series([143, 150, 157, 16], index=index)\n",
    "cheolsu = pd.Series([165, 172, 175, 180], index=index)\n",
    "\n",
    "growth = pd.DataFrame({\n",
    "    '영희': younghee,\n",
    "    '철수': cheolsu\n",
    "})\n",
    "growth"
   ]
  },
  {
   "cell_type": "code",
   "execution_count": 141,
   "id": "84a86893-943b-46e2-ae8f-fd371c6d26c5",
   "metadata": {},
   "outputs": [
    {
     "name": "stdout",
     "output_type": "stream",
     "text": [
      "       영희   철수\n",
      "2018  143  165\n",
      "2019  150  172\n",
      "2020  157  175\n",
      "2021  160  180\n",
      "영희    157\n",
      "철수    175\n",
      "Name: 2020, dtype: int64\n",
      "영희    157\n",
      "철수    175\n",
      "Name: 2020, dtype: int64\n",
      "       영희   철수\n",
      "2020  157  175\n",
      "2021  160  180\n",
      "       영희   철수\n",
      "2020  157  175\n",
      "2021  160  180\n"
     ]
    }
   ],
   "source": [
    "# 일반적인 데이터 프레임 만들기\n",
    "\n",
    "data = {\n",
    "    '영희': [143, 150, 157, 160],\n",
    "    '철수': [165, 172, 175, 180]\n",
    "}\n",
    "\n",
    "growth = pd.DataFrame(data, index=index)\n",
    "\n",
    "print(growth)\n",
    "# print(growth.columns) #칼럼\n",
    "# print(growth.values) #값\n",
    "\n",
    "# # 열 선택\n",
    "# print(growth['철수'])\n",
    "# # 열이름 선택 \n",
    "# print(growth[['철수']])\n",
    "# loc[행(문자), iloc[인덱스(숫자)]\n",
    "print(growth.loc['2020'])\n",
    "print(growth.iloc[2])\n",
    "print(growth.loc[['2020', '2021']])\n",
    "print(growth.iloc[[2, 3]])\n",
    "\n",
    "# print(growth.loc[growth['영희']==150, :])"
   ]
  },
  {
   "cell_type": "code",
   "execution_count": 159,
   "id": "d10b0e44-10d8-4e00-8004-8e5ed421b20f",
   "metadata": {},
   "outputs": [
    {
     "name": "stdout",
     "output_type": "stream",
     "text": [
      "       영희   철수\n",
      "2018  143  165\n",
      "2019  150  172\n",
      "2020  157  175\n",
      "2021  160  180\n",
      "2022  163  185\n",
      "       영희   철수\n",
      "2018  143  165\n",
      "2019  150  172\n",
      "2021  160  180\n",
      "2022  163  185\n"
     ]
    }
   ],
   "source": [
    "# 일반적인 데이터 프레임 만들기\n",
    "\n",
    "data = {\n",
    "    '영희': [143, 150, 157, 160],\n",
    "    '철수': [165, 172, 175, 180]\n",
    "}\n",
    "\n",
    "growth = pd.DataFrame(data, index=index)\n",
    "\n",
    "\n",
    "# 특정 요소 1개 선택\n",
    "# loc[행(문자), 열(문자)], iloc[행(숫자), 열(숫자)]\n",
    "# print(growth.loc['2020', '철수'])\n",
    "# print(growth.iloc[2, 1])\n",
    "#행추가\n",
    "growth.loc['2022'] = [163, 185]\n",
    "print(growth)\n",
    "#복사 - 원본유지(깊은 복사 - 원본과 별도로 삭제, 수정) - copy()\n",
    "growth2 = growth.copy()\n",
    "growth2 = growth.drop('2020') #행삭제\n",
    "\n",
    "print(growth2)"
   ]
  },
  {
   "cell_type": "code",
   "execution_count": 10,
   "id": "3dcdfe31-2820-4236-a8d2-bb555bff0dfc",
   "metadata": {},
   "outputs": [
    {
     "name": "stdout",
     "output_type": "stream",
     "text": [
      "       영희   철수\n",
      "2018  143  165\n",
      "2019  150  172\n",
      "2020  157  175\n",
      "2021  160  180\n"
     ]
    }
   ],
   "source": [
    "#csv 파일 만들기\n",
    "data = {\n",
    "    '영희': [143, 150, 157, 160],\n",
    "    '철수': [165, 172, 175, 180]\n",
    "}\n",
    "index=[\"2018\", \"2019\", \"2020\", \"2021\"]\n",
    "growth = pd.DataFrame(data, index=index)\n",
    "\n",
    "growth.to_csv('./datas/growth.csv')\n",
    "\n",
    "# csv 파일 읽기 - to_read_csv(경로)\n",
    "growth = pd.read_csv(\"./datas/growth.csv\", index_col=0)\n",
    "print(growth)"
   ]
  },
  {
   "cell_type": "code",
   "execution_count": 133,
   "id": "6e350f78-1c16-476c-980c-ebf983c75951",
   "metadata": {},
   "outputs": [
    {
     "name": "stdout",
     "output_type": "stream",
     "text": [
      "    국어  수학   영어\n",
      "재천  90  80   85\n",
      "선영  80  75   95\n",
      "일성  85  95  100\n"
     ]
    }
   ],
   "source": [
    "# 실습2 데이트프레임 만들기\n",
    "\n",
    "data = {\n",
    "    '국어': [90, 80, 85],\n",
    "    '수학': [80, 75, 95],\n",
    "    '영어': [85, 95, 100]\n",
    "}\n",
    "student = ['재천', '선영', '일성']\n",
    "growth1 = pd.DataFrame(data, index=student)\n",
    "print(growth)\n"
   ]
  },
  {
   "cell_type": "code",
   "execution_count": null,
   "id": "08522cd9-373e-4615-9ec6-cc85a38c41cb",
   "metadata": {},
   "outputs": [],
   "source": []
  }
 ],
 "metadata": {
  "kernelspec": {
   "display_name": "Python 3 (ipykernel)",
   "language": "python",
   "name": "python3"
  },
  "language_info": {
   "codemirror_mode": {
    "name": "ipython",
    "version": 3
   },
   "file_extension": ".py",
   "mimetype": "text/x-python",
   "name": "python",
   "nbconvert_exporter": "python",
   "pygments_lexer": "ipython3",
   "version": "3.12.4"
  }
 },
 "nbformat": 4,
 "nbformat_minor": 5
}
